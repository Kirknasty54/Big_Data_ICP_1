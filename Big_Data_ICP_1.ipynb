{
  "nbformat": 4,
  "nbformat_minor": 0,
  "metadata": {
    "colab": {
      "provenance": [],
      "authorship_tag": "ABX9TyNDBAsZZPg9qk/nDKhua9C8",
      "include_colab_link": true
    },
    "kernelspec": {
      "name": "python3",
      "display_name": "Python 3"
    },
    "language_info": {
      "name": "python"
    }
  },
  "cells": [
    {
      "cell_type": "markdown",
      "metadata": {
        "id": "view-in-github",
        "colab_type": "text"
      },
      "source": [
        "<a href=\"https://colab.research.google.com/github/Kirknasty54/Big_Data_ICP_1/blob/main/Big_Data_ICP_1.ipynb\" target=\"_parent\"><img src=\"https://colab.research.google.com/assets/colab-badge.svg\" alt=\"Open In Colab\"/></a>"
      ]
    },
    {
      "cell_type": "code",
      "execution_count": 1,
      "metadata": {
        "colab": {
          "base_uri": "https://localhost:8080/"
        },
        "id": "nSLHRNkgwaD6",
        "outputId": "68f4cdbe-e7f4-4a62-e490-083f23e28734"
      },
      "outputs": [
        {
          "output_type": "stream",
          "name": "stdout",
          "text": [
            "Drive already mounted at /content/drive; to attempt to forcibly remount, call drive.mount(\"/content/drive\", force_remount=True).\n"
          ]
        }
      ],
      "source": [
        "from google.colab import drive\n",
        "drive.mount('/content/drive')\n",
        "import numpy as np\n",
        "import math\n",
        "import random"
      ]
    },
    {
      "cell_type": "code",
      "source": [
        "#Takes python input, turns it into list of characters, removes 2 characters, then returns new string\n",
        "s = input(\"Enter string Python: \")\n",
        "while(s.strip().lower() != \"python\"):\n",
        "  s = input(\"Please try again\")\n",
        "print(\"String before deleting and reversing: \", s)\n",
        "\n",
        "sList = list(s)\n",
        "del sList[2:4]\n",
        "s2 = \"\"\n",
        "for x in sList:\n",
        "  s2 += x\n",
        "print(\"String after deleting 2 characters and before reversing: \", s2)\n",
        "\n",
        "s2 = s2[::-1]\n",
        "print(\"String after deleting and reversing: \", s2)"
      ],
      "metadata": {
        "colab": {
          "base_uri": "https://localhost:8080/"
        },
        "id": "NcZyLT850DXj",
        "outputId": "0ff0d2b7-95bf-46a4-f7e7-bf12d21a1421"
      },
      "execution_count": 2,
      "outputs": [
        {
          "output_type": "stream",
          "name": "stdout",
          "text": [
            "Enter string Python: python\n",
            "String before deleting and reversing:  python\n",
            "String after deleting 2 characters and before reversing:  pyon\n",
            "String after deleting and reversing:  noyp\n"
          ]
        }
      ]
    },
    {
      "cell_type": "code",
      "source": [
        "#takes 2 nums from user and does at least 4 arthimetic operations on them\n",
        "x, y = map(int, input(\"Enter 2 numbers: \").split())\n",
        "\n",
        "print(\"Operation 1: Cos of each number\")\n",
        "cosX, cosY = math.cos(x), math.cos(y)\n",
        "print(\"x:\", cosX, \"\\n\", \"y:\", cosY)\n",
        "\n",
        "print()\n",
        "\n",
        "print(\"Operation 2: Sin of each number:\")\n",
        "sinX, sinY = math.sin(x), math.sin(y)\n",
        "print(\"x:\", sinX, \"\\n\", \"y:\", sinY)\n",
        "\n",
        "print()\n",
        "\n",
        "print(\"Operation 3: Sqrt of each number:\")\n",
        "sqrtX, sqrtY = math.sqrt(x), math.sqrt(y)\n",
        "print(\"x:\", sqrtX, \"\\n\", \"y:\", sqrtY)\n",
        "\n",
        "print()\n",
        "\n",
        "print(\"Operation 4: Entered Number to the power of 7:\")\n",
        "powX, powY = math.pow(x, 7), math.pow(y, 7)\n",
        "print(\"x:\", powX, \"\\n\", \"y:\", powY)"
      ],
      "metadata": {
        "colab": {
          "base_uri": "https://localhost:8080/"
        },
        "id": "iW-h5sQy49rN",
        "outputId": "0e5eb9c7-7a72-47b9-9d05-66dc56df0312"
      },
      "execution_count": 4,
      "outputs": [
        {
          "output_type": "stream",
          "name": "stdout",
          "text": [
            "Enter 2 whole integers: 3 6\n",
            "Operation 1: Cos of each number\n",
            "x: -0.9899924966004454 \n",
            " y: 0.960170286650366\n",
            "\n",
            "Operation 2: Sin of each number:\n",
            "x: 0.1411200080598672 \n",
            " y: -0.27941549819892586\n",
            "\n",
            "Operation 3: Sqrt of each number:\n",
            "x: 1.7320508075688772 \n",
            " y: 2.449489742783178\n",
            "\n",
            "Operation 4: Entered Number to the power of 7:\n",
            "x: 2187.0 \n",
            " y: 279936.0\n"
          ]
        }
      ]
    },
    {
      "cell_type": "code",
      "source": [
        "#program that accepts sentence and replaces occurence of python with pythons\n",
        "#two methods\n",
        "from posixpath import join\n",
        "s = input(\"Enter in the sentence: \")\n",
        "sList = s.split()\n",
        "s = s.lower().replace('python', 'pythons')\n",
        "print(s)\n",
        "\n",
        "#for i in range(len(sList)):\n",
        "#  if sList[i].lower() == \"python\":\n",
        "#    sList[i] = sList[i].replace(sList[i], \"pythons\")'\n"
      ],
      "metadata": {
        "id": "VwvM2vstS5om",
        "colab": {
          "base_uri": "https://localhost:8080/"
        },
        "outputId": "56f1cfa6-4083-414b-f965-f1672195496b"
      },
      "execution_count": 22,
      "outputs": [
        {
          "output_type": "stream",
          "name": "stdout",
          "text": [
            "Enter in the sentence: I love playing with python\n",
            "i love playing with pythons\n"
          ]
        }
      ]
    },
    {
      "cell_type": "code",
      "source": [
        "grade = float(input(\"Enter in a grade score: \"))\n",
        "if grade >= 90.0:\n",
        "  print('A')\n",
        "elif grade <= 90.0 and grade >= 80.0:\n",
        "  print('B')\n",
        "elif grade <= 80.0 and grade >= 70.0:\n",
        "  print('C')\n",
        "elif grade <= 70.0 and grade >= 60.0:\n",
        "  print('D')\n",
        "else:\n",
        "  print('F')"
      ],
      "metadata": {
        "colab": {
          "base_uri": "https://localhost:8080/"
        },
        "id": "mDiwKv6VdFTz",
        "outputId": "c4e91d8d-393a-409d-f5ec-80bb7389c474"
      },
      "execution_count": 27,
      "outputs": [
        {
          "output_type": "stream",
          "name": "stdout",
          "text": [
            "Enter in a grade score: 65\n",
            "D\n"
          ]
        }
      ]
    }
  ]
}