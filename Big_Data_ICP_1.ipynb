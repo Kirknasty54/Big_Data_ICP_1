{
  "nbformat": 4,
  "nbformat_minor": 0,
  "metadata": {
    "colab": {
      "provenance": [],
      "authorship_tag": "ABX9TyM3pRG4p8KJto0H3gY01+9w",
      "include_colab_link": true
    },
    "kernelspec": {
      "name": "python3",
      "display_name": "Python 3"
    },
    "language_info": {
      "name": "python"
    }
  },
  "cells": [
    {
      "cell_type": "markdown",
      "metadata": {
        "id": "view-in-github",
        "colab_type": "text"
      },
      "source": [
        "<a href=\"https://colab.research.google.com/github/Kirknasty54/Big_Data_ICP_1/blob/main/Big_Data_ICP_1.ipynb\" target=\"_parent\"><img src=\"https://colab.research.google.com/assets/colab-badge.svg\" alt=\"Open In Colab\"/></a>"
      ]
    },
    {
      "cell_type": "code",
      "execution_count": 14,
      "metadata": {
        "colab": {
          "base_uri": "https://localhost:8080/"
        },
        "id": "nSLHRNkgwaD6",
        "outputId": "346a9088-835a-4951-ae8e-5a1a2563b24e"
      },
      "outputs": [
        {
          "output_type": "stream",
          "name": "stdout",
          "text": [
            "Drive already mounted at /content/drive; to attempt to forcibly remount, call drive.mount(\"/content/drive\", force_remount=True).\n"
          ]
        }
      ],
      "source": [
        "from google.colab import drive\n",
        "drive.mount('/content/drive')\n",
        "import numpy as np\n",
        "import random"
      ]
    },
    {
      "cell_type": "code",
      "source": [
        "#Takes python input, turns it into list of characters, removes 2 characters, then returns new string\n",
        "s = input(\"Enter string Python: \")\n",
        "while(s.strip().lower() != \"python\"):\n",
        "  s = input(\"Please try again\")\n",
        "print(\"String before deleting and reversing: \", s)\n",
        "\n",
        "s_list = list(s)\n",
        "del s_list[2:4]\n",
        "s2 = \"\"\n",
        "for x in s_list:\n",
        "  s2 += x\n",
        "print(\"String after deleting 2 characters and before reversing: \", s2)\n",
        "\n",
        "s2 = s2[::-1]\n",
        "print(\"String after deleting and reversing: \", s2)"
      ],
      "metadata": {
        "colab": {
          "base_uri": "https://localhost:8080/"
        },
        "id": "NcZyLT850DXj",
        "outputId": "3102a87b-36a8-4906-cbe1-76c33d01d4ea"
      },
      "execution_count": 25,
      "outputs": [
        {
          "output_type": "stream",
          "name": "stdout",
          "text": [
            "Enter string Python: python\n",
            "String before deleting and reversing:  python\n",
            "String after deleting 2 characters and before reversing:  pyon\n",
            "String after deleting and reversing:  noyp\n"
          ]
        }
      ]
    },
    {
      "cell_type": "code",
      "source": [],
      "metadata": {
        "id": "iW-h5sQy49rN"
      },
      "execution_count": null,
      "outputs": []
    }
  ]
}