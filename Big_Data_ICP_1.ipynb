{
  "nbformat": 4,
  "nbformat_minor": 0,
  "metadata": {
    "colab": {
      "provenance": [],
      "authorship_tag": "ABX9TyNIQQWJ0Nk2UUlc4NW0vnOE",
      "include_colab_link": true
    },
    "kernelspec": {
      "name": "python3",
      "display_name": "Python 3"
    },
    "language_info": {
      "name": "python"
    }
  },
  "cells": [
    {
      "cell_type": "markdown",
      "metadata": {
        "id": "view-in-github",
        "colab_type": "text"
      },
      "source": [
        "<a href=\"https://colab.research.google.com/github/Kirknasty54/Big_Data_ICP_1/blob/main/Big_Data_ICP_1.ipynb\" target=\"_parent\"><img src=\"https://colab.research.google.com/assets/colab-badge.svg\" alt=\"Open In Colab\"/></a>"
      ]
    },
    {
      "cell_type": "code",
      "execution_count": 5,
      "metadata": {
        "colab": {
          "base_uri": "https://localhost:8080/"
        },
        "id": "nSLHRNkgwaD6",
        "outputId": "eb10b671-bea8-439e-9428-742c4b90dd30"
      },
      "outputs": [
        {
          "output_type": "stream",
          "name": "stdout",
          "text": [
            "Mounted at /content/drive\n"
          ]
        }
      ],
      "source": [
        "from google.colab import drive\n",
        "drive.mount('/content/drive')\n",
        "import numpy as np\n",
        "import math\n",
        "import random\n",
        "from posixpath import join"
      ]
    },
    {
      "cell_type": "code",
      "source": [
        "#Takes python input, turns it into list of characters, removes 2 characters, then returns new string\n",
        "s = input(\"Enter string Python: \")\n",
        "while(s.strip().lower() != \"python\"):\n",
        "  s = input(\"Please try again\")\n",
        "print(\"String before deleting and reversing: \", s)\n",
        "\n",
        "sList = list(s)\n",
        "del sList[2:4]\n",
        "s2 = \"\"\n",
        "for x in sList:\n",
        "  s2 += x\n",
        "print(\"String after deleting 2 characters and before reversing: \", s2)\n",
        "\n",
        "s2 = s2[::-1]\n",
        "print(\"String after deleting and reversing: \", s2)"
      ],
      "metadata": {
        "colab": {
          "base_uri": "https://localhost:8080/"
        },
        "id": "NcZyLT850DXj",
        "outputId": "34012087-2a8d-4f52-f4af-ad1a41be3c0b"
      },
      "execution_count": 6,
      "outputs": [
        {
          "output_type": "stream",
          "name": "stdout",
          "text": [
            "Enter string Python: python\n",
            "String before deleting and reversing:  python\n",
            "String after deleting 2 characters and before reversing:  pyon\n",
            "String after deleting and reversing:  noyp\n"
          ]
        }
      ]
    },
    {
      "cell_type": "code",
      "source": [
        "def main():\n",
        "  #takes 2 nums from user and does at least 4 arthimetic operations on them\n",
        "  x, y = map(int, input(\"Enter 2 numbers: \").split())\n",
        "\n",
        "\n",
        "  print(\"Operation 1: Cos of each number\")\n",
        "  cosX, cosY = math.cos(x), math.cos(y)\n",
        "  print(\"x:\", cosX, \"\\n\", \"y:\", cosY)\n",
        "\n",
        "  print()\n",
        "\n",
        "  print(\"Operation 2: Sin of each number:\")\n",
        "  sinX, sinY = math.sin(x), math.sin(y)\n",
        "  print(\"x:\", sinX, \"\\n\", \"y:\", sinY)\n",
        "\n",
        "  print()\n",
        "\n",
        "  print(\"Operation 3: Sqrt of each number:\")\n",
        "  sqrtX, sqrtY = math.sqrt(x), math.sqrt(y)\n",
        "  print(\"x:\", sqrtX, \"\\n\", \"y:\", sqrtY)\n",
        "\n",
        "  print()\n",
        "\n",
        "  #two methods used for style below, built in and recursive\n",
        "  print(\"Operation 4: Entered Number to the power of 7:\")\n",
        "  powX, powY = recursivePow(x, 7), recursivePow(y, 7)\n",
        "  #powX, powY = math.pow(x, 7), math.pow(y, 7)\n",
        "  print(\"x:\", powX, \"\\n\", \"y:\", powY)\n",
        "\n",
        "\n",
        "def recursivePow(x, n):\n",
        "  if(n == 0):\n",
        "    return 1\n",
        "  return x * recursivePow(x, n-1)\n",
        "\n",
        "main()"
      ],
      "metadata": {
        "colab": {
          "base_uri": "https://localhost:8080/"
        },
        "id": "iW-h5sQy49rN",
        "outputId": "1d4cfd7e-e211-4d27-9a2e-338f5750be09"
      },
      "execution_count": 12,
      "outputs": [
        {
          "output_type": "stream",
          "name": "stdout",
          "text": [
            "Enter 2 numbers: 3 6\n",
            "Operation 1: Cos of each number\n",
            "x: -0.9899924966004454 \n",
            " y: 0.960170286650366\n",
            "\n",
            "Operation 2: Sin of each number:\n",
            "x: 0.1411200080598672 \n",
            " y: -0.27941549819892586\n",
            "\n",
            "Operation 3: Sqrt of each number:\n",
            "x: 1.7320508075688772 \n",
            " y: 2.449489742783178\n",
            "\n",
            "Operation 4: Entered Number to the power of 7:\n",
            "x: 2187 \n",
            " y: 279936\n"
          ]
        }
      ]
    },
    {
      "cell_type": "code",
      "source": [
        "#program that accepts sentence and replaces occurence of python with pythons\n",
        "#two methods\n",
        "s = input(\"Enter in the sentence: \")\n",
        "sList = s.split()\n",
        "s = s.lower().replace('python', 'pythons')\n",
        "print(s)\n",
        "\n",
        "#for i in range(len(sList)):\n",
        "#  if sList[i].lower() == \"python\":\n",
        "#    sList[i] = sList[i].replace(sList[i], \"pythons\")'\n"
      ],
      "metadata": {
        "id": "VwvM2vstS5om",
        "colab": {
          "base_uri": "https://localhost:8080/"
        },
        "outputId": "6f6ccafe-cffd-4d1c-e2d0-fb2f34007fb6"
      },
      "execution_count": 13,
      "outputs": [
        {
          "output_type": "stream",
          "name": "stdout",
          "text": [
            "Enter in the sentence: I love playing with pythons\n",
            "i love playing with pythonss\n"
          ]
        }
      ]
    },
    {
      "cell_type": "code",
      "source": [
        "grade = float(input(\"Enter in a grade score: \"))\n",
        "if grade >= 90.0:\n",
        "  print('A')\n",
        "elif grade <= 90.0 and grade >= 80.0:\n",
        "  print('B')\n",
        "elif grade <= 80.0 and grade >= 70.0:\n",
        "  print('C')\n",
        "elif grade <= 70.0 and grade >= 60.0:\n",
        "  print('D')\n",
        "else:\n",
        "  print('F')"
      ],
      "metadata": {
        "id": "mDiwKv6VdFTz"
      },
      "execution_count": null,
      "outputs": []
    }
  ]
}